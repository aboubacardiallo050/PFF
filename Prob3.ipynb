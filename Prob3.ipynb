{
  "nbformat": 4,
  "nbformat_minor": 0,
  "metadata": {
    "colab": {
      "provenance": []
    },
    "kernelspec": {
      "name": "python3",
      "display_name": "Python 3"
    },
    "language_info": {
      "name": "python"
    }
  },
  "cells": [
    {
      "cell_type": "code",
      "execution_count": null,
      "metadata": {
        "id": "aTwIA2Yivub4"
      },
      "outputs": [],
      "source": []
    },
    {
      "cell_type": "markdown",
      "source": [
        "**Le problème d'apprentissage utilisé ici est un problème de clustering pour regrouper le sentiment des téléspectateurs sur un film**"
      ],
      "metadata": {
        "id": "-zQK3L2D2Kxy"
      }
    },
    {
      "cell_type": "markdown",
      "source": [
        "**IMPORTATION DES PACKAGES**"
      ],
      "metadata": {
        "id": "YeCAnQ8J22be"
      }
    },
    {
      "cell_type": "code",
      "source": [
        "import pandas as pd\n",
        "import numpy as np\n",
        "import matplotlib.pyplot as plt\n",
        "import sklearn.datasets\n",
        "import seaborn as sns\n",
        "import sklearn.feature_extraction.text import TfidTransformer\n",
        "import sklearn.feature_extraction.text import CountVectorizer\n",
        "import sklearn.cluster import KMeans"
      ],
      "metadata": {
        "id": "fe2K2IB23I3f"
      },
      "execution_count": null,
      "outputs": []
    },
    {
      "cell_type": "code",
      "source": [
        "training_data = sklearn.datasets.load_files('train')"
      ],
      "metadata": {
        "id": "YkZVPJuyj5jf"
      },
      "execution_count": null,
      "outputs": []
    },
    {
      "cell_type": "code",
      "source": [
        "df = np.array(train.data)\n",
        "df.shape"
      ],
      "metadata": {
        "id": "ScoUJlp1kMNV"
      },
      "execution_count": null,
      "outputs": []
    },
    {
      "cell_type": "code",
      "source": [
        "df1 = pd.DataFrame(df)\n",
        "df1"
      ],
      "metadata": {
        "id": "FSVaXmjMkW5l"
      },
      "execution_count": null,
      "outputs": []
    },
    {
      "cell_type": "code",
      "source": [
        "vectorizer = CountVectorizer()\n",
        "X_vector = vectorizer.fit_transform(df1)\n",
        "# transf = TfidfTransformer(use_idf=False).fit_transform(X_vector)\n",
        "# X_transf = transf.transform.fit_transform(X_vector)  \n",
        "# X_transf.shape"
      ],
      "metadata": {
        "id": "rez_-KmGkjgS"
      },
      "execution_count": null,
      "outputs": []
    },
    {
      "cell_type": "code",
      "source": [
        "tfidf_transf = TfidfTransformer()\n",
        "X_tfidf = tfidf_transf.fit_transform(X_vector)\n",
        "print(X_tfidf)"
      ],
      "metadata": {
        "id": "zSlTQQZGm28S"
      },
      "execution_count": null,
      "outputs": []
    },
    {
      "cell_type": "code",
      "source": [
        "df_idf = pd.DataFrame(X_tfidf)\n",
        "df_idf"
      ],
      "metadata": {
        "id": "PpFBKkBrnwd1"
      },
      "execution_count": null,
      "outputs": []
    },
    {
      "cell_type": "markdown",
      "source": [
        "**Utilisation de Elbow pour avoir le nombre de clusters**"
      ],
      "metadata": {
        "id": "TP41Op-toQPd"
      }
    },
    {
      "cell_type": "code",
      "source": [
        "inert = []\n",
        "for k in range(1, 10):\n",
        "  km= KMeans(n_clusters = k, n_init = 10)\n",
        "  km.fit(X_tfidf)\n",
        "  inert.append(km.inertia_)"
      ],
      "metadata": {
        "id": "Uvf3GMfZoNA0"
      },
      "execution_count": null,
      "outputs": []
    },
    {
      "cell_type": "code",
      "source": [
        "plt.plot(range(1, 10), inert)\n",
        "plt.title('La Methode ELBOW')\n",
        "plt.xlabel('Nombres de Clusters')\n",
        "plt.ylabel('Inertia')\n",
        "plt.show"
      ],
      "metadata": {
        "id": "ehRo1jh5pcmk"
      },
      "execution_count": null,
      "outputs": []
    },
    {
      "cell_type": "markdown",
      "source": [
        "**Modelisation**"
      ],
      "metadata": {
        "id": "sIi-zXfaqLZ8"
      }
    },
    {
      "cell_type": "code",
      "source": [
        "model = KMeans(n_clusters = 4)\n",
        "df1['Cluster'] = model.fit_predict(X_tfidf)"
      ],
      "metadata": {
        "id": "gBFJAunEqDKZ"
      },
      "execution_count": null,
      "outputs": []
    },
    {
      "cell_type": "code",
      "source": [
        "df1['Cluster'] = df1['Cluster'].astype('category')"
      ],
      "metadata": {
        "id": "8R_CFTv3qr3W"
      },
      "execution_count": null,
      "outputs": []
    },
    {
      "cell_type": "code",
      "source": [
        "len(model.labels_)"
      ],
      "metadata": {
        "id": "HRlcPPN8q2xp"
      },
      "execution_count": null,
      "outputs": []
    },
    {
      "cell_type": "code",
      "source": [
        "d.head(20)"
      ],
      "metadata": {
        "id": "5pvbMHukrcdH"
      },
      "execution_count": null,
      "outputs": []
    },
    {
      "cell_type": "code",
      "source": [
        "sns.scatterplot(np.arange(0, 50000), X_tfidf.data[:50000], hue=df1['Cluster'][:50000])"
      ],
      "metadata": {
        "id": "tvc34uhvrlZb"
      },
      "execution_count": null,
      "outputs": []
    },
    {
      "cell_type": "code",
      "source": [
        "df1[df1['Cluster']==0]"
      ],
      "metadata": {
        "id": "MTBOD4kIsEvP"
      },
      "execution_count": null,
      "outputs": []
    },
    {
      "cell_type": "markdown",
      "source": [
        "**Formulation mathématique**"
      ],
      "metadata": {
        "id": "PcSguo1SsV67"
      }
    },
    {
      "cell_type": "markdown",
      "source": [
        "Le regroupement est l'une des techniques d'analyse de données exploratoires les plus courantes utilisées pour se faire une idée de la structure des données. Elle peut être définie comme la tâche d'identification des sous-groupes dans les données de telle sorte que les points de données dans le même sous-groupe (cluster) soient très similaires tandis que les points de données dans différents clusters sont très différents. En d'autres termes, nous essayons de trouver des sous-groupes homogènes dans les données de telle sorte que les points de données dans chaque cluster soient aussi similaires que possible selon une mesure de similitude telle que la distance euclidienne ou la distance basée sur la corrélation. La décision relative à la mesure de similitude à utiliser dépend de l'application."
      ],
      "metadata": {
        "id": "GWODyUi1sdFb"
      }
    },
    {
      "cell_type": "markdown",
      "source": [
        "L' algorithme Kmeans est un algorithme itératif qui tente de partitionner l'ensemble de données en K sous-groupes (clusters) distincts et non chevauchants prédéfinis où chaque point de données appartient à un seul groupe . Il essaie de rendre les points de données intra-cluster aussi similaires que possible tout en gardant les clusters aussi différents (loin) que possible. Il attribue des points de données à un cluster de telle sorte que la somme de la distance au carré entre les points de données et le centre de gravité du cluster (moyenne arithmétique de tous les points de données appartenant à ce cluster) soit au minimum. Moins nous avons de variation au sein des clusters, plus les points de données sont homogènes (similaires) au sein du même cluster.\n",
        "\n",
        "Le fonctionnement de l'algorithme kmeans est le suivant:\n",
        "\n",
        "Précisez le nombre de grappes K .\n",
        "Initialisez les centres de gravité en mélangeant d'abord le jeu de données, puis en sélectionnant au hasard K points de données pour les centres de gravité sans remplacement.\n",
        "Continuez à itérer jusqu'à ce qu'il n'y ait aucune modification des centres de gravité. c'est-à-dire que l'attribution des points de données aux clusters ne change pas.\n",
        "Calculez la somme de la distance au carré entre les points de données et tous les centres de gravité.\n",
        "Attribuez chaque point de données au cluster le plus proche (centroïde).\n",
        "Calculez les centres de gravité des clusters en prenant la moyenne de tous les points de données appartenant à chaque cluster.\n",
        "La fonction objectif est:\n",
        "![1_myXqNCTZH80uvO2QyU6F5Q.png](data:image/png;base64,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)"
      ],
      "metadata": {
        "id": "_-_YKuYawArf"
      }
    },
    {
      "cell_type": "markdown",
      "source": [
        "**Dans notre cas nous avons:**"
      ],
      "metadata": {
        "id": "-3imRqUmzQTK"
      }
    },
    {
      "cell_type": "markdown",
      "source": [
        "Un Modèle (se reférant à la fonction objectif ci-dessus)/                        \n",
        "Un Paramètre: determinant le nombre d'initialisation des centroides, la détermination de la génération de nbres aléatoires pour l'initialisation centroide/                                                               L'Hyperparamètre : la methode elbow nous permet d'avoir le k optimale"
      ],
      "metadata": {
        "id": "qlUhSxQVx_tW"
      }
    },
    {
      "cell_type": "markdown",
      "source": [],
      "metadata": {
        "id": "iEfbuYFY1o5B"
      }
    },
    {
      "cell_type": "markdown",
      "source": [],
      "metadata": {
        "id": "Ssfx0ZnO1Iga"
      }
    }
  ]
}