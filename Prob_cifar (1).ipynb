{
  "nbformat": 4,
  "nbformat_minor": 0,
  "metadata": {
    "colab": {
      "provenance": []
    },
    "kernelspec": {
      "name": "python3",
      "display_name": "Python 3"
    },
    "language_info": {
      "name": "python"
    }
  },
  "cells": [
    {
      "cell_type": "code",
      "execution_count": 35,
      "metadata": {
        "id": "hImIdwtMa4dc"
      },
      "outputs": [],
      "source": [
        "import pandas as pd\n",
        "import numpy as np\n",
        "import matplotlib.pyplot as plt\n",
        "from tensorflow.keras.datasets import cifar10\n",
        "from tensorflow.keras.utils import to_categorical\n",
        "from tensorflow.keras.models import Sequential\n",
        "from tensorflow.keras.layers import Dense, Conv2D, MaxPool2D\n",
        "from tensorflow.keras.callbacks import EarlyStopping\n",
        "from sklearn.metrics import classification_report, confusion_matrix\n",
        "import seaborn as sns"
      ]
    },
    {
      "cell_type": "code",
      "source": [
        "#Chargement de données\n",
        "(X_train,y_train) , (X_test, y_test) = cifar10.load_data()"
      ],
      "metadata": {
        "id": "4cc76LT0bH0j"
      },
      "execution_count": 37,
      "outputs": []
    },
    {
      "cell_type": "code",
      "source": [
        "X_train.shape"
      ],
      "metadata": {
        "colab": {
          "base_uri": "https://localhost:8080/"
        },
        "id": "cvfwSRB8bSXf",
        "outputId": "186780b2-65bb-40da-d95c-78b790c4aa5e"
      },
      "execution_count": 38,
      "outputs": [
        {
          "output_type": "execute_result",
          "data": {
            "text/plain": [
              "(50000, 32, 32, 3)"
            ]
          },
          "metadata": {},
          "execution_count": 38
        }
      ]
    },
    {
      "cell_type": "code",
      "source": [
        "X_test.shape"
      ],
      "metadata": {
        "colab": {
          "base_uri": "https://localhost:8080/"
        },
        "id": "jHHSlu23by9a",
        "outputId": "ed8aaad6-4a79-48e3-c5a0-d5999e299245"
      },
      "execution_count": 39,
      "outputs": [
        {
          "output_type": "execute_result",
          "data": {
            "text/plain": [
              "(10000, 32, 32, 3)"
            ]
          },
          "metadata": {},
          "execution_count": 39
        }
      ]
    },
    {
      "cell_type": "code",
      "source": [
        "y_train.shape"
      ],
      "metadata": {
        "colab": {
          "base_uri": "https://localhost:8080/"
        },
        "id": "t8G3mV7Hb5aH",
        "outputId": "50aca4d5-e7fb-460a-9506-ee283f710817"
      },
      "execution_count": 40,
      "outputs": [
        {
          "output_type": "execute_result",
          "data": {
            "text/plain": [
              "(50000, 1)"
            ]
          },
          "metadata": {},
          "execution_count": 40
        }
      ]
    },
    {
      "cell_type": "code",
      "source": [
        "y_test.shape"
      ],
      "metadata": {
        "colab": {
          "base_uri": "https://localhost:8080/"
        },
        "id": "zabjQ2WIcBLW",
        "outputId": "432e8a11-f5c0-4bf4-e53e-9df373a91ac5"
      },
      "execution_count": 41,
      "outputs": [
        {
          "output_type": "execute_result",
          "data": {
            "text/plain": [
              "(10000, 1)"
            ]
          },
          "metadata": {},
          "execution_count": 41
        }
      ]
    },
    {
      "cell_type": "code",
      "source": [
        "N = X_train.shape[0]\n",
        "M = X_test.shape[0]"
      ],
      "metadata": {
        "id": "eeKtuRsycqda"
      },
      "execution_count": 49,
      "outputs": []
    },
    {
      "cell_type": "markdown",
      "source": [
        "**Convert class vectors to binary class matrices using one hot encoding**"
      ],
      "metadata": {
        "id": "ZcIiO5D5oo0Z"
      }
    },
    {
      "cell_type": "code",
      "source": [
        "y_train_ohe = to_categorical(y_train, num_classes = 100)\n",
        "y_test_ohe = to_categorical(y_test, num_classes = 100)"
      ],
      "metadata": {
        "id": "YALCdeRxo358"
      },
      "execution_count": 43,
      "outputs": []
    },
    {
      "cell_type": "markdown",
      "source": [
        "**Normalisation de données**"
      ],
      "metadata": {
        "id": "i_9ntrGRpG6K"
      }
    },
    {
      "cell_type": "code",
      "source": [
        "X_train = X_train.astype('float32')\n",
        "X_test = X_test.astype('float32')\n",
        "X_train  /= 255\n",
        "X_test /= 255\n",
        "print(X_train.shape)\n",
        "print(y_train_ohe.shape)\n",
        "print(X_test.shape)\n",
        "print(y_test_ohe.shape)"
      ],
      "metadata": {
        "colab": {
          "base_uri": "https://localhost:8080/"
        },
        "id": "raJWolvRpLOr",
        "outputId": "f349f7f2-391e-436b-93ae-6345a96366da"
      },
      "execution_count": 44,
      "outputs": [
        {
          "output_type": "stream",
          "name": "stdout",
          "text": [
            "(50000, 32, 32, 3)\n",
            "(50000, 100)\n",
            "(10000, 32, 32, 3)\n",
            "(10000, 100)\n"
          ]
        }
      ]
    },
    {
      "cell_type": "code",
      "source": [
        "X_val = X_train[40000:]\n",
        "y_val = y_train_ohe[40000:]\n",
        "print(X_val.shape)\n",
        "print(y_val.shape)"
      ],
      "metadata": {
        "colab": {
          "base_uri": "https://localhost:8080/"
        },
        "id": "jr3k5XVno-Qv",
        "outputId": "c6a389c9-8e1a-4386-eb78-6afa5174ddc2"
      },
      "execution_count": 45,
      "outputs": [
        {
          "output_type": "stream",
          "name": "stdout",
          "text": [
            "(10000, 32, 32, 3)\n",
            "(10000, 100)\n"
          ]
        }
      ]
    },
    {
      "cell_type": "code",
      "source": [
        "X_train = X_train[:40000]\n",
        "y_train_ohe = y_train_ohe[:40000]\n",
        "print(X_train.shape)\n",
        "print(y_train_ohe.shape)"
      ],
      "metadata": {
        "colab": {
          "base_uri": "https://localhost:8080/"
        },
        "id": "4eu7-hfipe5S",
        "outputId": "1e2d5d1d-138d-4448-fa0b-6abefbe43222"
      },
      "execution_count": 46,
      "outputs": [
        {
          "output_type": "stream",
          "name": "stdout",
          "text": [
            "(40000, 32, 32, 3)\n",
            "(40000, 100)\n"
          ]
        }
      ]
    },
    {
      "cell_type": "markdown",
      "source": [
        "**Convertion en binaire (decimal --> 10bits)**"
      ],
      "metadata": {
        "id": "VY15ri67qGFR"
      }
    },
    {
      "cell_type": "code",
      "source": [
        "num_classes = 10\n",
        "y_train_cg = to_categorical(y_train, num_classes)\n",
        "y_test_cg = to_categorical(y_test, num_classes)"
      ],
      "metadata": {
        "id": "M9hN3ZNoqdFX"
      },
      "execution_count": 47,
      "outputs": []
    },
    {
      "cell_type": "code",
      "source": [
        "X_train = np.reshape(X_train, (N,3072))\n",
        "X_test = np.reshape(X_test, (M,3072))"
      ],
      "metadata": {
        "id": "OHINug09rPNY"
      },
      "execution_count": 50,
      "outputs": []
    },
    {
      "cell_type": "code",
      "source": [
        "X_train.shape"
      ],
      "metadata": {
        "colab": {
          "base_uri": "https://localhost:8080/"
        },
        "id": "MU7Gw9rxuEf-",
        "outputId": "d44860a3-5447-417c-b680-b94adae9f378"
      },
      "execution_count": 51,
      "outputs": [
        {
          "output_type": "execute_result",
          "data": {
            "text/plain": [
              "(40000, 3072)"
            ]
          },
          "metadata": {},
          "execution_count": 51
        }
      ]
    },
    {
      "cell_type": "code",
      "source": [
        "p  = 8\n",
        "modele = Sequential()\n",
        "# Première couche : p neurones\n",
        "modele.add(Dense(1024, input_dim= 3072, activation = \"relu\"))\n",
        "#Deuxième couche\n",
        "modele.add(Dense(512, activation = \"relu\"))\n",
        "modele.add(Dense(256, activation = \"relu\"))\n",
        "modele.add(Dense(128, activation = \"relu\"))\n",
        "#Couche de sortie : 10 neurones\n",
        "modele.add(Dense(10, activation = \"softmax\"))"
      ],
      "metadata": {
        "id": "Wc2dD0bquSQn"
      },
      "execution_count": 52,
      "outputs": []
    },
    {
      "cell_type": "code",
      "source": [
        "from sklearn import metrics\n",
        "#Choix de la méthode de descente de gradient\n",
        "modele.compile(loss='categorical_crossentropy',\n",
        "               optimizer = 'sgd',\n",
        "               metrics= ['accuracy'])\n",
        "print(modele.summary())"
      ],
      "metadata": {
        "colab": {
          "base_uri": "https://localhost:8080/"
        },
        "id": "oumIu9-pwuOZ",
        "outputId": "68c9b63e-9cc5-45f7-818a-cd7a4e156343"
      },
      "execution_count": 53,
      "outputs": [
        {
          "output_type": "stream",
          "name": "stdout",
          "text": [
            "Model: \"sequential_1\"\n",
            "_________________________________________________________________\n",
            " Layer (type)                Output Shape              Param #   \n",
            "=================================================================\n",
            " dense_5 (Dense)             (None, 1024)              3146752   \n",
            "                                                                 \n",
            " dense_6 (Dense)             (None, 512)               524800    \n",
            "                                                                 \n",
            " dense_7 (Dense)             (None, 256)               131328    \n",
            "                                                                 \n",
            " dense_8 (Dense)             (None, 128)               32896     \n",
            "                                                                 \n",
            " dense_9 (Dense)             (None, 10)                1290      \n",
            "                                                                 \n",
            "=================================================================\n",
            "Total params: 3,837,066\n",
            "Trainable params: 3,837,066\n",
            "Non-trainable params: 0\n",
            "_________________________________________________________________\n",
            "None\n"
          ]
        }
      ]
    },
    {
      "cell_type": "code",
      "source": [
        "modele.fit(X_train, y_train_cg[:40000], batch_size= 64, epochs=40)"
      ],
      "metadata": {
        "colab": {
          "base_uri": "https://localhost:8080/"
        },
        "id": "p3EcGWP7yQQk",
        "outputId": "aee259be-e187-4b48-ee5f-19e4df2a490b"
      },
      "execution_count": 54,
      "outputs": [
        {
          "output_type": "stream",
          "name": "stdout",
          "text": [
            "Epoch 1/40\n",
            "625/625 [==============================] - 21s 33ms/step - loss: 1.9416 - accuracy: 0.3038\n",
            "Epoch 2/40\n",
            "625/625 [==============================] - 20s 33ms/step - loss: 1.7544 - accuracy: 0.3740\n",
            "Epoch 3/40\n",
            "625/625 [==============================] - 20s 33ms/step - loss: 1.6632 - accuracy: 0.4093\n",
            "Epoch 4/40\n",
            "625/625 [==============================] - 21s 33ms/step - loss: 1.6048 - accuracy: 0.4299\n",
            "Epoch 5/40\n",
            "625/625 [==============================] - 20s 33ms/step - loss: 1.5563 - accuracy: 0.4460\n",
            "Epoch 6/40\n",
            "625/625 [==============================] - 21s 33ms/step - loss: 1.5152 - accuracy: 0.4592\n",
            "Epoch 7/40\n",
            "625/625 [==============================] - 22s 35ms/step - loss: 1.4815 - accuracy: 0.4714\n",
            "Epoch 8/40\n",
            "625/625 [==============================] - 21s 33ms/step - loss: 1.4470 - accuracy: 0.4838\n",
            "Epoch 9/40\n",
            "625/625 [==============================] - 20s 33ms/step - loss: 1.4158 - accuracy: 0.4963\n",
            "Epoch 10/40\n",
            "625/625 [==============================] - 20s 33ms/step - loss: 1.3891 - accuracy: 0.5052\n",
            "Epoch 11/40\n",
            "625/625 [==============================] - 21s 33ms/step - loss: 1.3633 - accuracy: 0.5149\n",
            "Epoch 12/40\n",
            "625/625 [==============================] - 20s 33ms/step - loss: 1.3379 - accuracy: 0.5250\n",
            "Epoch 13/40\n",
            "625/625 [==============================] - 20s 33ms/step - loss: 1.3157 - accuracy: 0.5335\n",
            "Epoch 14/40\n",
            "625/625 [==============================] - 22s 35ms/step - loss: 1.2930 - accuracy: 0.5410\n",
            "Epoch 15/40\n",
            "625/625 [==============================] - 20s 33ms/step - loss: 1.2673 - accuracy: 0.5506\n",
            "Epoch 16/40\n",
            "625/625 [==============================] - 20s 33ms/step - loss: 1.2469 - accuracy: 0.5585\n",
            "Epoch 17/40\n",
            "625/625 [==============================] - 20s 33ms/step - loss: 1.2244 - accuracy: 0.5674\n",
            "Epoch 18/40\n",
            "625/625 [==============================] - 21s 33ms/step - loss: 1.2067 - accuracy: 0.5728\n",
            "Epoch 19/40\n",
            "625/625 [==============================] - 20s 32ms/step - loss: 1.1856 - accuracy: 0.5794\n",
            "Epoch 20/40\n",
            "625/625 [==============================] - 20s 33ms/step - loss: 1.1625 - accuracy: 0.5867\n",
            "Epoch 21/40\n",
            "625/625 [==============================] - 21s 34ms/step - loss: 1.1400 - accuracy: 0.5968\n",
            "Epoch 22/40\n",
            "625/625 [==============================] - 21s 33ms/step - loss: 1.1174 - accuracy: 0.6063\n",
            "Epoch 23/40\n",
            "625/625 [==============================] - 20s 33ms/step - loss: 1.0972 - accuracy: 0.6120\n",
            "Epoch 24/40\n",
            "625/625 [==============================] - 20s 33ms/step - loss: 1.0719 - accuracy: 0.6212\n",
            "Epoch 25/40\n",
            "625/625 [==============================] - 20s 33ms/step - loss: 1.0528 - accuracy: 0.6288\n",
            "Epoch 26/40\n",
            "625/625 [==============================] - 20s 33ms/step - loss: 1.0299 - accuracy: 0.6371\n",
            "Epoch 27/40\n",
            "625/625 [==============================] - 20s 33ms/step - loss: 1.0139 - accuracy: 0.6421\n",
            "Epoch 28/40\n",
            "625/625 [==============================] - 20s 33ms/step - loss: 0.9864 - accuracy: 0.6535\n",
            "Epoch 29/40\n",
            "625/625 [==============================] - 22s 34ms/step - loss: 0.9702 - accuracy: 0.6577\n",
            "Epoch 30/40\n",
            "625/625 [==============================] - 20s 33ms/step - loss: 0.9456 - accuracy: 0.6653\n",
            "Epoch 31/40\n",
            "625/625 [==============================] - 20s 32ms/step - loss: 0.9214 - accuracy: 0.6780\n",
            "Epoch 32/40\n",
            "625/625 [==============================] - 20s 32ms/step - loss: 0.9000 - accuracy: 0.6844\n",
            "Epoch 33/40\n",
            "625/625 [==============================] - 20s 33ms/step - loss: 0.8796 - accuracy: 0.6938\n",
            "Epoch 34/40\n",
            "625/625 [==============================] - 20s 33ms/step - loss: 0.8615 - accuracy: 0.6987\n",
            "Epoch 35/40\n",
            "625/625 [==============================] - 20s 33ms/step - loss: 0.8401 - accuracy: 0.7052\n",
            "Epoch 36/40\n",
            "625/625 [==============================] - 22s 35ms/step - loss: 0.8176 - accuracy: 0.7140\n",
            "Epoch 37/40\n",
            "625/625 [==============================] - 20s 33ms/step - loss: 0.7936 - accuracy: 0.7200\n",
            "Epoch 38/40\n",
            "625/625 [==============================] - 20s 33ms/step - loss: 0.7750 - accuracy: 0.7296\n",
            "Epoch 39/40\n",
            "625/625 [==============================] - 20s 33ms/step - loss: 0.7547 - accuracy: 0.7360\n",
            "Epoch 40/40\n",
            "625/625 [==============================] - 20s 33ms/step - loss: 0.7339 - accuracy: 0.7432\n"
          ]
        },
        {
          "output_type": "execute_result",
          "data": {
            "text/plain": [
              "<keras.callbacks.History at 0x7f2c5094cf70>"
            ]
          },
          "metadata": {},
          "execution_count": 54
        }
      ]
    },
    {
      "cell_type": "code",
      "source": [
        "res = modele.evaluate(X_test, y_test_cg, verbose=0)\n",
        "print(\"Valeur de l'erreur sur les données de test (loss): \", res[0])\n",
        "print(\"Accuracy: \", res[1])"
      ],
      "metadata": {
        "id": "yXmwFFpDjf_V",
        "outputId": "115ecf16-666f-4e47-c3cd-e94a96d33b58",
        "colab": {
          "base_uri": "https://localhost:8080/"
        }
      },
      "execution_count": 55,
      "outputs": [
        {
          "output_type": "stream",
          "name": "stdout",
          "text": [
            "Valeur de l'erreur sur les données de test (loss):  1.4912079572677612\n",
            "Accuracy:  0.5202999711036682\n"
          ]
        }
      ]
    },
    {
      "cell_type": "markdown",
      "source": [
        "**Prediction sur les données de test**"
      ],
      "metadata": {
        "id": "FLMrrh78lT-a"
      }
    },
    {
      "cell_type": "code",
      "source": [
        "Y_predict = modele.predict(X_test)"
      ],
      "metadata": {
        "id": "yeAJHWDPlDTx",
        "outputId": "2f12f2e0-a0d3-4bb1-cf1a-44a2cba51768",
        "colab": {
          "base_uri": "https://localhost:8080/"
        }
      },
      "execution_count": 56,
      "outputs": [
        {
          "output_type": "stream",
          "name": "stdout",
          "text": [
            "313/313 [==============================] - 3s 9ms/step\n"
          ]
        }
      ]
    },
    {
      "cell_type": "code",
      "source": [
        "Y_predict"
      ],
      "metadata": {
        "id": "oORm04dIllgD",
        "outputId": "1a8142bd-5027-40ef-bba4-38d183f38635",
        "colab": {
          "base_uri": "https://localhost:8080/"
        }
      },
      "execution_count": 57,
      "outputs": [
        {
          "output_type": "execute_result",
          "data": {
            "text/plain": [
              "array([[3.3392499e-03, 1.0775309e-03, 1.6804144e-01, ..., 2.1621268e-04,\n",
              "        3.3769608e-03, 9.3208067e-04],\n",
              "       [6.1549763e-03, 6.2836431e-02, 1.0108436e-04, ..., 3.3753640e-06,\n",
              "        9.2714775e-01, 3.5492207e-03],\n",
              "       [5.5340505e-01, 6.2166937e-02, 1.5225904e-03, ..., 2.2473841e-03,\n",
              "        3.7163636e-01, 4.0863240e-03],\n",
              "       ...,\n",
              "       [1.0504969e-03, 6.2355703e-06, 3.3723453e-01, ..., 5.6277093e-04,\n",
              "        1.0901931e-02, 9.7828312e-04],\n",
              "       [4.9003079e-03, 2.8086662e-05, 6.9032830e-01, ..., 2.0332956e-03,\n",
              "        1.9560651e-04, 1.5715019e-05],\n",
              "       [9.9514611e-03, 1.0863375e-04, 1.8463095e-01, ..., 1.1741367e-01,\n",
              "        1.5659927e-03, 1.9803997e-03]], dtype=float32)"
            ]
          },
          "metadata": {},
          "execution_count": 57
        }
      ]
    },
    {
      "cell_type": "code",
      "source": [
        "class_names = ['airplane', 'automobile', 'bird', 'cat', 'deer', 'dog', 'frog', 'home']\n",
        "i = 1\n",
        "img_predit = X_test[i]\n",
        "plt.imshow(X_test[i].reshape(32, 32, -1), cmap = 'CMRmap_r')\n",
        "plt.title(\"valeur prédite \" + str(class_names[np.argmax(img_predit[i], axis = 0)]), size=20)"
      ],
      "metadata": {
        "colab": {
          "base_uri": "https://localhost:8080/",
          "height": 304
        },
        "id": "y4wBf77W8HxH",
        "outputId": "705b84f5-64f5-4b89-d4aa-f18e021e7ee6"
      },
      "execution_count": 58,
      "outputs": [
        {
          "output_type": "execute_result",
          "data": {
            "text/plain": [
              "Text(0.5, 1.0, 'valeur prédite airplane')"
            ]
          },
          "metadata": {},
          "execution_count": 58
        },
        {
          "output_type": "display_data",
          "data": {
            "text/plain": [
              "<Figure size 432x288 with 1 Axes>"
            ],
            "image/png": "[encoded data removed]"
          },
          "metadata": {
            "needs_background": "light"
          }
        }
      ]
    },
    {
      "cell_type": "markdown",
      "source": [
        "**Formulation Mathematique du problème**"
      ],
      "metadata": {
        "id": "ygTEAylyn9a0"
      }
    },
    {
      "cell_type": "markdown",
      "source": [
        "-**Modèle** est de la forme ***y = f(x) ou (y(1),...,y(n)) = f(x(1),...,x(n))*** tout simplement car un neurone artificiel est une fonction qui prend un ou des x à l'entrée, le calcul en le multipliant par son poids pour ensuite les transférés aux autres neurones. **y = f(w(1)x(1).....w(n)x(n))**.\n",
        "\n",
        "-**paramètre**: le type de couche, le nombre de neurone dans chaque couche, fonction d'activation de chaque couche, la valeur des entrées et et sorties hyperparamètre le nombre de couche dans le modèle crictère et approche d'optimisation: La fonction de perte *loss='categorical_crossentropy'* est utilisée pour diminuer l'erreur. Plus l'erreur est faible plus le modèle est précis L'approche d'optimisation est la methode de descente de grandient"
      ],
      "metadata": {
        "id": "t3BkQHo5oSm-"
      }
    },
    {
      "cell_type": "markdown",
      "source": [],
      "metadata": {
        "id": "MwRoltfHqejK"
      }
    },
    {
      "cell_type": "markdown",
      "source": [],
      "metadata": {
        "id": "wY4UTvBqqUfx"
      }
    }
  ]
}